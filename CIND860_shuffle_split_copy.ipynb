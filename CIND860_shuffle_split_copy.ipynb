{
  "nbformat": 4,
  "nbformat_minor": 0,
  "metadata": {
    "colab": {
      "provenance": [],
      "authorship_tag": "ABX9TyO7DiPGZqMqM3yHiZCci3xE",
      "include_colab_link": true
    },
    "kernelspec": {
      "name": "python3",
      "display_name": "Python 3"
    },
    "language_info": {
      "name": "python"
    }
  },
  "cells": [
    {
      "cell_type": "markdown",
      "metadata": {
        "id": "view-in-github",
        "colab_type": "text"
      },
      "source": [
        "<a href=\"https://colab.research.google.com/github/robert-pineau/CIND-860-Capstone/blob/main/CIND860_shuffle_split_copy.ipynb\" target=\"_parent\"><img src=\"https://colab.research.google.com/assets/colab-badge.svg\" alt=\"Open In Colab\"/></a>"
      ]
    },
    {
      "cell_type": "code",
      "execution_count": null,
      "metadata": {
        "id": "xk5McjeiuLQK"
      },
      "outputs": [],
      "source": [
        "import os\n",
        "import random\n",
        "import glob\n",
        "import re\n",
        "import numpy as np\n",
        "import pandas as pd"
      ]
    },
    {
      "cell_type": "code",
      "source": [
        "image_dir= \"/mnt/wd/CIND860/database/square_cc_images\"\n",
        "\n",
        "#Read in the database file for details regarding each image/patient.\n",
        "dataset_file = \"mnt/wd/CIND860/train.csv\"\n",
        "df=pd.read_csv(dataset_file,sep=',')\n",
        "\n",
        "image_list = glob.glob(os.path.join(\"\", f\"{image_dir}/*.png\"))\n",
        "random.shuffle(image_list)\n",
        "\n",
        "\n",
        "#Using a 60/20/20 split\n",
        "#\n",
        "count = len(image_list)\n",
        "tr_size = int(count*.6)\n",
        "val_size = int(count*.2)\n",
        "tst_size = int(count*.2)\n",
        "\n",
        "#Initialize some counters\n",
        "tr_cn = 0\n",
        "val_cn = 0\n",
        "tst_cn = 0\n",
        "\n",
        "tr_with_cn = 0\n",
        "tr_without_cn = 0\n",
        "val_with_cn = 0\n",
        "val_without_cn = 0\n",
        "tst_with_cn = 0\n",
        "tst_without_cn = 0"
      ],
      "metadata": {
        "id": "EFZXA8lyuU9M"
      },
      "execution_count": null,
      "outputs": []
    },
    {
      "cell_type": "code",
      "source": [
        "image_cnt = 0\n",
        "for png_name in image_list:\n",
        "   copy = 0\n",
        "   image_cnt += 1\n",
        "   result = re.search(r\"\\/(\\d+)\\.png\", png_name)\n",
        "   image_id = int(result.group(1))\n",
        "\n",
        "   my_index = np.where(df['image_id'] == image_id)[0]\n",
        "   cancer = df.at[int(my_index),'cancer']\n",
        "   patient_id = df.at[int(my_index),'patient_id']\n",
        "\n",
        "   if tr_cn < tr_size:\n",
        "      dest = \"train\"\n",
        "      tr_cn += 1\n",
        "      copy = 1\n",
        "   elif val_cn < val_size:\n",
        "      dest = \"validate\"\n",
        "      val_cn += 1\n",
        "      copy = 1\n",
        "   elif tst_cn < tst_size:\n",
        "      dest = \"test\"\n",
        "      tst_cn += 1\n",
        "      copy = 1\n",
        "\n",
        "   if cancer and dest == \"train\":\n",
        "      tr_with_cn += 1\n",
        "   elif dest == \"train\":\n",
        "      tr_without_cn += 1\n",
        "   elif cancer and dest == \"validate\":\n",
        "      val_with_cn += 1\n",
        "   elif dest == \"validate\":\n",
        "      val_without_cn += 1\n",
        "   elif cancer and dest == \"test\":\n",
        "      tst_with_cn += 1\n",
        "   elif dest == \"test\":\n",
        "      tst_without_cn += 1\n",
        "\n",
        "   if not copy:\n",
        "      continue\n",
        "\n",
        "   os.system(f\"cp {png_name} {image_dir}/{dest}/{patient_id}_{image_id}.png\")\n",
        "   print(f\"Patient ID:***{patient_id}*** Image ID:***{image_id}*** Cancer: ***{cancer}*** Dest: ***{dest}***\")\n"
      ],
      "metadata": {
        "id": "wk3Oe4inuzTQ"
      },
      "execution_count": null,
      "outputs": []
    },
    {
      "cell_type": "code",
      "source": [
        "print(f\"FOUND ***{tr_with_cn}***{val_with_cn}***{tst_with_cn}***With Cancer\")\n",
        "print(f\"FOUND ***{tr_without_cn}***{val_without_cn}***{tst_without_cn}***Without Cancer\")\n",
        "print(f\"FOUND ***{image_cnt}*** total images\")"
      ],
      "metadata": {
        "id": "fEmN5c9ru6oY"
      },
      "execution_count": null,
      "outputs": []
    }
  ]
}