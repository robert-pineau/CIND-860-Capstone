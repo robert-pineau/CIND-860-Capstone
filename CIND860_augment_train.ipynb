{
  "nbformat": 4,
  "nbformat_minor": 0,
  "metadata": {
    "colab": {
      "provenance": [],
      "authorship_tag": "ABX9TyN1NlOGhqCTCvBeIHAGERuZ",
      "include_colab_link": true
    },
    "kernelspec": {
      "name": "python3",
      "display_name": "Python 3"
    },
    "language_info": {
      "name": "python"
    }
  },
  "cells": [
    {
      "cell_type": "markdown",
      "metadata": {
        "id": "view-in-github",
        "colab_type": "text"
      },
      "source": [
        "<a href=\"https://colab.research.google.com/github/robert-pineau/CIND-860-Capstone/blob/main/CIND860_augment_train.ipynb\" target=\"_parent\"><img src=\"https://colab.research.google.com/assets/colab-badge.svg\" alt=\"Open In Colab\"/></a>"
      ]
    },
    {
      "cell_type": "code",
      "execution_count": null,
      "metadata": {
        "id": "b3LGrmVN6Kkr"
      },
      "outputs": [],
      "source": [
        "import os\n",
        "import cv2\n",
        "import random\n",
        "import glob\n",
        "import re\n",
        "import numpy as np\n",
        "import albumentations as albu"
      ]
    },
    {
      "cell_type": "code",
      "source": [
        "#This utility takes only the original \"train\" images, both with cancer, and without, and creates random augments of each, expanding the original image into 32 flavours.\n",
        "#\n",
        "#The possible augments are as follows:\n",
        "#\n",
        "#a) Horizontal Flips\n",
        "#b) Vertical Flips\n",
        "#c) Apply CLATHE (Contrast Limited Adaptice Hostogram Equilization)\n",
        "#d) RandomToneCurve (to highlight areas from bright to dark)\n",
        "#e) RandomeBrightness/Contract adjustment.\n",
        "\n",
        "\n",
        "#Other planned augments that have not been tried yet:\n",
        "#\n",
        "#RandomGamma adjustment\n",
        "#HueSaturation adjustment\n",
        "#ColorJitter adustment\n",
        "#InvertImg (blacks to white, and whites to black)\n",
        "#Solarize (like InvertImg, but only for pixels above a certain threshold)\n"
      ],
      "metadata": {
        "id": "2QKL2HZ86o0s"
      },
      "execution_count": null,
      "outputs": []
    },
    {
      "cell_type": "code",
      "source": [
        "transform = albu.Compose([\n",
        "   albu.HorizontalFlip(p=0.5),\n",
        "   albu.VerticalFlip(p=0.5),\n",
        "   albu.CLAHE(clip_limit=(1,10),p=1),\n",
        "   albu.OneOf([\n",
        "      albu.RandomToneCurve(scale=0.3, p=0.5),\n",
        "      albu.RandomBrightnessContrast(brightness_limit=(-0.1, 0.2), contrast_limit=(-0.4, 0.5), brightness_by_max=True, always_apply=False, p=0.5)\n",
        "      ], p=0.5)\n",
        "])\n",
        "\n",
        "\n",
        "#This method uses the above transformations to create the augments.\n",
        "def aug_fn(image):\n",
        "    aug_img = transform(image = image)[\"image\"]\n",
        "    return aug_img\n"
      ],
      "metadata": {
        "id": "M7qtjALg6LYd"
      },
      "execution_count": null,
      "outputs": []
    },
    {
      "cell_type": "code",
      "source": [
        "image_dir = \"/mnt/wd/CIND860/database/square_cc_images\""
      ],
      "metadata": {
        "id": "NMAa2IzT6OLL"
      },
      "execution_count": null,
      "outputs": []
    },
    {
      "cell_type": "code",
      "source": [
        "#Only augmented the original images in the train directory.\n",
        "#those are the ones in the \"train\" subdir, in the format (\\d+)_(\\d+)\\.png\n",
        "image_list = glob.glob(f\"{image_dir}/train/*.png\")\n",
        "random.shuffle(image_list)\n",
        "\n",
        "count = len(image_list)\n",
        "image_cnt = 0\n",
        "\n",
        "for png_name in image_list:\n",
        "   copy = 0\n",
        "   image_cnt += 1\n",
        "\n",
        "   #Only considering original images\n",
        "   result = re.search(r\"(train)\\/(\\d+)_(\\d+)\\.png\", png_name)\n",
        "   if not result:\n",
        "      continue\n",
        "\n",
        "   cnn_use = result.group(1)\n",
        "   patient_id = int(result.group(2))\n",
        "   image_id = int(result.group(3))\n",
        "   img = cv2.imread(png_name)\n",
        "\n",
        "   #Create 31 augments, for every orignal training image.\n",
        "   #With the original image, this means 32 total images for every original image.\n",
        "   for j in range(1,32):\n",
        "     #gets a random augment based on the original.\n",
        "     img2 = aug_fn(img)\n",
        "     #Writing the new \"augmented\" image with an extra digit on the end.\n",
        "     #(the original, still part of the dataset will not have the extra digit on the end)\n",
        "     cv2.imwrite(f\"{image_dir}/{cnn_use}/{patient_id}_{image_id}_{j}.png\", img2)\n",
        "     image_cnt += 1\n",
        "\n",
        "   print(f\"Patient ID:***{patient_id}*** Image ID:***{image_id}***\")\n",
        "\n",
        "\n",
        "print(f\"FOUND ***{count}*** Images\")\n",
        "print(f\"Now Total of ***{image_cnt}*** Images\")\n"
      ],
      "metadata": {
        "id": "B1pUb05Q6XhY"
      },
      "execution_count": null,
      "outputs": []
    }
  ]
}